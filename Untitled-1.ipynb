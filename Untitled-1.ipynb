{
 "cells": [
  {
   "cell_type": "code",
   "execution_count": 3,
   "metadata": {},
   "outputs": [
    {
     "name": "stderr",
     "output_type": "stream",
     "text": [
      "/Library/Frameworks/Python.framework/Versions/3.10/lib/python3.10/site-packages/tqdm/auto.py:22: TqdmWarning: IProgress not found. Please update jupyter and ipywidgets. See https://ipywidgets.readthedocs.io/en/stable/user_install.html\n",
      "  from .autonotebook import tqdm as notebook_tqdm\n"
     ]
    }
   ],
   "source": [
    "import pandas as pd\n",
    "from sentence_transformers import SentenceTransformer\n",
    "from sklearn.metrics.pairwise import cosine_similarity"
   ]
  },
  {
   "cell_type": "code",
   "execution_count": 13,
   "metadata": {},
   "outputs": [
    {
     "name": "stdout",
     "output_type": "stream",
     "text": [
      "[[ 0.16010675 -0.5379783  -0.04167283 ...  0.3930651   0.31267592\n",
      "  -0.41662014]\n",
      " [ 0.10453971  0.19116944 -0.9161046  ... -0.16573648  0.2077941\n",
      "  -0.3483476 ]]\n"
     ]
    }
   ],
   "source": [
    "model = SentenceTransformer('jhgan/ko-sroberta-multitask')\n",
    "\n",
    "sentences = ['', '저는 부산 소마고에 다니고 있습니다.']\n",
    "embeddings = model.encode(sentences)\n",
    "\n",
    "print(embeddings)"
   ]
  },
  {
   "cell_type": "code",
   "execution_count": 32,
   "metadata": {},
   "outputs": [
    {
     "data": {
      "text/html": [
       "<div>\n",
       "<style scoped>\n",
       "    .dataframe tbody tr th:only-of-type {\n",
       "        vertical-align: middle;\n",
       "    }\n",
       "\n",
       "    .dataframe tbody tr th {\n",
       "        vertical-align: top;\n",
       "    }\n",
       "\n",
       "    .dataframe thead th {\n",
       "        text-align: right;\n",
       "    }\n",
       "</style>\n",
       "<table border=\"1\" class=\"dataframe\">\n",
       "  <thead>\n",
       "    <tr style=\"text-align: right;\">\n",
       "      <th></th>\n",
       "      <th>구분</th>\n",
       "      <th>유저</th>\n",
       "      <th>챗봇</th>\n",
       "    </tr>\n",
       "  </thead>\n",
       "  <tbody>\n",
       "    <tr>\n",
       "      <th>0</th>\n",
       "      <td>입학홍보</td>\n",
       "      <td>1차 특별전형 불합격 시에만 일반전형으로 전환되는 것인가요?</td>\n",
       "      <td>1차전형은 특별전형 모집정원의 150%, 48명을 선발하고 불합격자는 일반전형 지원...</td>\n",
       "    </tr>\n",
       "    <tr>\n",
       "      <th>1</th>\n",
       "      <td>NaN</td>\n",
       "      <td>학과 정원 초과시 어떻게 되나요?</td>\n",
       "      <td>공통과정을 이수한 후 2학년 진급시 학과배정 기준은 교육공동체 의견을 수렵하여 1학...</td>\n",
       "    </tr>\n",
       "    <tr>\n",
       "      <th>2</th>\n",
       "      <td>NaN</td>\n",
       "      <td>남녀 기숙사별 구간 분리가 되어 있나요?</td>\n",
       "      <td>기존기숙사는 2층, 3층을 활용하며 신축기숙사는 3층, 4층을 활용합니다. 신입생 ...</td>\n",
       "    </tr>\n",
       "    <tr>\n",
       "      <th>3</th>\n",
       "      <td>NaN</td>\n",
       "      <td>방과후 학원을 다닐 수 있나요?</td>\n",
       "      <td>방과후 학원을 다니지 않더라도 교육과정을 이수하는데 지장이 없습니다.</td>\n",
       "    </tr>\n",
       "    <tr>\n",
       "      <th>4</th>\n",
       "      <td>NaN</td>\n",
       "      <td>졸업 후 유학은 가능한가요?</td>\n",
       "      <td>마이스터고등학교는 산업 수요 맞춤형 고등학교이므로 진학을 하기 보다는 취업을 목적으...</td>\n",
       "    </tr>\n",
       "  </tbody>\n",
       "</table>\n",
       "</div>"
      ],
      "text/plain": [
       "     구분                                 유저  \\\n",
       "0  입학홍보  1차 특별전형 불합격 시에만 일반전형으로 전환되는 것인가요?   \n",
       "1   NaN                 학과 정원 초과시 어떻게 되나요?   \n",
       "2   NaN             남녀 기숙사별 구간 분리가 되어 있나요?   \n",
       "3   NaN                  방과후 학원을 다닐 수 있나요?   \n",
       "4   NaN                    졸업 후 유학은 가능한가요?   \n",
       "\n",
       "                                                  챗봇  \n",
       "0  1차전형은 특별전형 모집정원의 150%, 48명을 선발하고 불합격자는 일반전형 지원...  \n",
       "1  공통과정을 이수한 후 2학년 진급시 학과배정 기준은 교육공동체 의견을 수렵하여 1학...  \n",
       "2  기존기숙사는 2층, 3층을 활용하며 신축기숙사는 3층, 4층을 활용합니다. 신입생 ...  \n",
       "3             방과후 학원을 다니지 않더라도 교육과정을 이수하는데 지장이 없습니다.  \n",
       "4  마이스터고등학교는 산업 수요 맞춤형 고등학교이므로 진학을 하기 보다는 취업을 목적으...  "
      ]
     },
     "execution_count": 32,
     "metadata": {},
     "output_type": "execute_result"
    }
   ],
   "source": [
    "df = pd.read_csv('bssm.csv')\n",
    "df.head()"
   ]
  },
  {
   "cell_type": "code",
   "execution_count": 7,
   "metadata": {},
   "outputs": [],
   "source": [
    "df.to_csv('bssm.csv', index = False)"
   ]
  },
  {
   "cell_type": "code",
   "execution_count": 33,
   "metadata": {},
   "outputs": [],
   "source": [
    "text = '유학 가능한가요?'\n",
    "embedding = model.encode(text)"
   ]
  },
  {
   "cell_type": "code",
   "execution_count": 34,
   "metadata": {},
   "outputs": [
    {
     "data": {
      "text/html": [
       "<div>\n",
       "<style scoped>\n",
       "    .dataframe tbody tr th:only-of-type {\n",
       "        vertical-align: middle;\n",
       "    }\n",
       "\n",
       "    .dataframe tbody tr th {\n",
       "        vertical-align: top;\n",
       "    }\n",
       "\n",
       "    .dataframe thead th {\n",
       "        text-align: right;\n",
       "    }\n",
       "</style>\n",
       "<table border=\"1\" class=\"dataframe\">\n",
       "  <thead>\n",
       "    <tr style=\"text-align: right;\">\n",
       "      <th></th>\n",
       "      <th>구분</th>\n",
       "      <th>유저</th>\n",
       "      <th>챗봇</th>\n",
       "      <th>embedding</th>\n",
       "    </tr>\n",
       "  </thead>\n",
       "  <tbody>\n",
       "    <tr>\n",
       "      <th>0</th>\n",
       "      <td>입학홍보</td>\n",
       "      <td>1차 특별전형 불합격 시에만 일반전형으로 전환되는 것인가요?</td>\n",
       "      <td>1차전형은 특별전형 모집정원의 150%, 48명을 선발하고 불합격자는 일반전형 지원...</td>\n",
       "      <td>[-0.6829877, 0.16592123, 0.8594976, -0.3393661...</td>\n",
       "    </tr>\n",
       "    <tr>\n",
       "      <th>1</th>\n",
       "      <td>NaN</td>\n",
       "      <td>학과 정원 초과시 어떻게 되나요?</td>\n",
       "      <td>공통과정을 이수한 후 2학년 진급시 학과배정 기준은 교육공동체 의견을 수렵하여 1학...</td>\n",
       "      <td>[-1.0141237, -0.031287298, -0.0015729509, -0.5...</td>\n",
       "    </tr>\n",
       "    <tr>\n",
       "      <th>2</th>\n",
       "      <td>NaN</td>\n",
       "      <td>남녀 기숙사별 구간 분리가 되어 있나요?</td>\n",
       "      <td>기존기숙사는 2층, 3층을 활용하며 신축기숙사는 3층, 4층을 활용합니다. 신입생 ...</td>\n",
       "      <td>[-0.36171314, -0.93683195, -0.16705608, -0.102...</td>\n",
       "    </tr>\n",
       "    <tr>\n",
       "      <th>3</th>\n",
       "      <td>NaN</td>\n",
       "      <td>방과후 학원을 다닐 수 있나요?</td>\n",
       "      <td>방과후 학원을 다니지 않더라도 교육과정을 이수하는데 지장이 없습니다.</td>\n",
       "      <td>[-0.46295103, -0.08426961, -0.16276589, -0.272...</td>\n",
       "    </tr>\n",
       "    <tr>\n",
       "      <th>4</th>\n",
       "      <td>NaN</td>\n",
       "      <td>졸업 후 유학은 가능한가요?</td>\n",
       "      <td>마이스터고등학교는 산업 수요 맞춤형 고등학교이므로 진학을 하기 보다는 취업을 목적으...</td>\n",
       "      <td>[-0.5382756, -0.21412465, 0.4008068, -0.243066...</td>\n",
       "    </tr>\n",
       "  </tbody>\n",
       "</table>\n",
       "</div>"
      ],
      "text/plain": [
       "     구분                                 유저  \\\n",
       "0  입학홍보  1차 특별전형 불합격 시에만 일반전형으로 전환되는 것인가요?   \n",
       "1   NaN                 학과 정원 초과시 어떻게 되나요?   \n",
       "2   NaN             남녀 기숙사별 구간 분리가 되어 있나요?   \n",
       "3   NaN                  방과후 학원을 다닐 수 있나요?   \n",
       "4   NaN                    졸업 후 유학은 가능한가요?   \n",
       "\n",
       "                                                  챗봇  \\\n",
       "0  1차전형은 특별전형 모집정원의 150%, 48명을 선발하고 불합격자는 일반전형 지원...   \n",
       "1  공통과정을 이수한 후 2학년 진급시 학과배정 기준은 교육공동체 의견을 수렵하여 1학...   \n",
       "2  기존기숙사는 2층, 3층을 활용하며 신축기숙사는 3층, 4층을 활용합니다. 신입생 ...   \n",
       "3             방과후 학원을 다니지 않더라도 교육과정을 이수하는데 지장이 없습니다.   \n",
       "4  마이스터고등학교는 산업 수요 맞춤형 고등학교이므로 진학을 하기 보다는 취업을 목적으...   \n",
       "\n",
       "                                           embedding  \n",
       "0  [-0.6829877, 0.16592123, 0.8594976, -0.3393661...  \n",
       "1  [-1.0141237, -0.031287298, -0.0015729509, -0.5...  \n",
       "2  [-0.36171314, -0.93683195, -0.16705608, -0.102...  \n",
       "3  [-0.46295103, -0.08426961, -0.16276589, -0.272...  \n",
       "4  [-0.5382756, -0.21412465, 0.4008068, -0.243066...  "
      ]
     },
     "execution_count": 34,
     "metadata": {},
     "output_type": "execute_result"
    }
   ],
   "source": [
    "df['embedding'] = df['유저'].map(lambda x: list(model.encode(x)))\n",
    "\n",
    "df.to_csv('bssm.csv', index = False)\n",
    "df.head()"
   ]
  },
  {
   "cell_type": "code",
   "execution_count": 22,
   "metadata": {},
   "outputs": [
    {
     "data": {
      "text/html": [
       "<div>\n",
       "<style scoped>\n",
       "    .dataframe tbody tr th:only-of-type {\n",
       "        vertical-align: middle;\n",
       "    }\n",
       "\n",
       "    .dataframe tbody tr th {\n",
       "        vertical-align: top;\n",
       "    }\n",
       "\n",
       "    .dataframe thead th {\n",
       "        text-align: right;\n",
       "    }\n",
       "</style>\n",
       "<table border=\"1\" class=\"dataframe\">\n",
       "  <thead>\n",
       "    <tr style=\"text-align: right;\">\n",
       "      <th></th>\n",
       "      <th>구분</th>\n",
       "      <th>유저</th>\n",
       "      <th>챗봇</th>\n",
       "      <th>embedding</th>\n",
       "      <th>distance</th>\n",
       "    </tr>\n",
       "  </thead>\n",
       "  <tbody>\n",
       "    <tr>\n",
       "      <th>0</th>\n",
       "      <td>입학홍보</td>\n",
       "      <td>1차 특별전형 불합격 시에만 일반전형으로 전환되는 것인가요?</td>\n",
       "      <td>1차전형은 특별전형 모집정원의 150%, 48명을 선발하고 불합격자는 일반전형 지원...</td>\n",
       "      <td>[-0.6829877, 0.16592123, 0.8594976, -0.3393661...</td>\n",
       "      <td>0.336248</td>\n",
       "    </tr>\n",
       "    <tr>\n",
       "      <th>1</th>\n",
       "      <td>NaN</td>\n",
       "      <td>학과 정원 초과시 어떻게 되나요?</td>\n",
       "      <td>공통과정을 이수한 후 2학년 진급시 학과배정 기준은 교육공동체 의견을 수렵하여 1학...</td>\n",
       "      <td>[-1.0141237, -0.031287298, -0.0015729509, -0.5...</td>\n",
       "      <td>0.392408</td>\n",
       "    </tr>\n",
       "    <tr>\n",
       "      <th>2</th>\n",
       "      <td>NaN</td>\n",
       "      <td>남녀 기숙사별 구간 분리가 되어 있나요?</td>\n",
       "      <td>기존기숙사는 2층, 3층을 활용하며 신축기숙사는 3층, 4층을 활용합니다. 신입생 ...</td>\n",
       "      <td>[-0.36171314, -0.93683195, -0.16705608, -0.102...</td>\n",
       "      <td>0.349882</td>\n",
       "    </tr>\n",
       "    <tr>\n",
       "      <th>3</th>\n",
       "      <td>NaN</td>\n",
       "      <td>방과후 학원을 다닐 수 있나요?</td>\n",
       "      <td>방과후 학원을 다니지 않더라도 교육과정을 이수하는데 지장이 없습니다.</td>\n",
       "      <td>[-0.46295103, -0.08426961, -0.16276589, -0.272...</td>\n",
       "      <td>0.537849</td>\n",
       "    </tr>\n",
       "    <tr>\n",
       "      <th>4</th>\n",
       "      <td>NaN</td>\n",
       "      <td>졸업 후 유학은 가능한가요?</td>\n",
       "      <td>마이스터고등학교는 산업 수요 맞춤형 고등학교이므로 진학을 하기 보다는 취업을 목적으...</td>\n",
       "      <td>[-0.5382756, -0.21412465, 0.4008068, -0.243066...</td>\n",
       "      <td>0.873650</td>\n",
       "    </tr>\n",
       "  </tbody>\n",
       "</table>\n",
       "</div>"
      ],
      "text/plain": [
       "     구분                                 유저  \\\n",
       "0  입학홍보  1차 특별전형 불합격 시에만 일반전형으로 전환되는 것인가요?   \n",
       "1   NaN                 학과 정원 초과시 어떻게 되나요?   \n",
       "2   NaN             남녀 기숙사별 구간 분리가 되어 있나요?   \n",
       "3   NaN                  방과후 학원을 다닐 수 있나요?   \n",
       "4   NaN                    졸업 후 유학은 가능한가요?   \n",
       "\n",
       "                                                  챗봇  \\\n",
       "0  1차전형은 특별전형 모집정원의 150%, 48명을 선발하고 불합격자는 일반전형 지원...   \n",
       "1  공통과정을 이수한 후 2학년 진급시 학과배정 기준은 교육공동체 의견을 수렵하여 1학...   \n",
       "2  기존기숙사는 2층, 3층을 활용하며 신축기숙사는 3층, 4층을 활용합니다. 신입생 ...   \n",
       "3             방과후 학원을 다니지 않더라도 교육과정을 이수하는데 지장이 없습니다.   \n",
       "4  마이스터고등학교는 산업 수요 맞춤형 고등학교이므로 진학을 하기 보다는 취업을 목적으...   \n",
       "\n",
       "                                           embedding  distance  \n",
       "0  [-0.6829877, 0.16592123, 0.8594976, -0.3393661...  0.336248  \n",
       "1  [-1.0141237, -0.031287298, -0.0015729509, -0.5...  0.392408  \n",
       "2  [-0.36171314, -0.93683195, -0.16705608, -0.102...  0.349882  \n",
       "3  [-0.46295103, -0.08426961, -0.16276589, -0.272...  0.537849  \n",
       "4  [-0.5382756, -0.21412465, 0.4008068, -0.243066...  0.873650  "
      ]
     },
     "execution_count": 22,
     "metadata": {},
     "output_type": "execute_result"
    }
   ],
   "source": [
    "df['distance'] = df['embedding'].map(lambda x: cosine_similarity([embedding], [x]).squeeze())\n",
    "df.head()"
   ]
  },
  {
   "cell_type": "code",
   "execution_count": 24,
   "metadata": {},
   "outputs": [
    {
     "name": "stdout",
     "output_type": "stream",
     "text": [
      "nan\n",
      "졸업 후 유학은 가능한가요?\n",
      "마이스터고등학교는 산업 수요 맞춤형 고등학교이므로 진학을 하기 보다는 취업을 목적으로 하고 있습니다. 진학을 원한다면 선취업 후학습 제도를 활용해야 합니다. 졸업 후 3년간 산업체에 근무하고 그 경력으로 재직자 특별전형에 지원할 수 있습니다.\n",
      "0.8736496567726135\n"
     ]
    }
   ],
   "source": [
    "answer = df.loc[df['distance'].idxmax()]\n",
    "\n",
    "print(answer['구분'])\n",
    "print(answer['유저'])\n",
    "print(answer['챗봇'])\n",
    "print(answer['distance'])"
   ]
  },
  {
   "cell_type": "code",
   "execution_count": 31,
   "metadata": {},
   "outputs": [
    {
     "name": "stdout",
     "output_type": "stream",
     "text": [
      "46708 부산 강서구 가락대로 1393 (봉림동 15) 입니다.\n"
     ]
    }
   ],
   "source": [
    "question = '소마고 주소'\n",
    "embedding = model.encode(question)\n",
    "df['distance'] = df['embedding'].map(lambda x: cosine_similarity([embedding], [x]).squeeze())\n",
    "\n",
    "answer = df.loc[df['distance'].idxmax()]\n",
    "\n",
    "print(answer['챗봇'])"
   ]
  }
 ],
 "metadata": {
  "kernelspec": {
   "display_name": "Python 3.10.7 64-bit",
   "language": "python",
   "name": "python3"
  },
  "language_info": {
   "codemirror_mode": {
    "name": "ipython",
    "version": 3
   },
   "file_extension": ".py",
   "mimetype": "text/x-python",
   "name": "python",
   "nbconvert_exporter": "python",
   "pygments_lexer": "ipython3",
   "version": "3.10.7"
  },
  "orig_nbformat": 4,
  "vscode": {
   "interpreter": {
    "hash": "7e1998ff7f8aa20ada591c520b972326324e5ea05489af9e422744c7c09f6dad"
   }
  }
 },
 "nbformat": 4,
 "nbformat_minor": 2
}
